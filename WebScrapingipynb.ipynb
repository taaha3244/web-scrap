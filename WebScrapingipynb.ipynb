{
  "nbformat": 4,
  "nbformat_minor": 0,
  "metadata": {
    "colab": {
      "provenance": [],
      "authorship_tag": "ABX9TyND/GofQQLlHIDhLCDCQYM1",
      "include_colab_link": true
    },
    "kernelspec": {
      "name": "python3",
      "display_name": "Python 3"
    },
    "language_info": {
      "name": "python"
    }
  },
  "cells": [
    {
      "cell_type": "markdown",
      "metadata": {
        "id": "view-in-github",
        "colab_type": "text"
      },
      "source": [
        "<a href=\"https://colab.research.google.com/github/taaha3244/Adhd-Connect/blob/main/WebScrapingipynb.ipynb\" target=\"_parent\"><img src=\"https://colab.research.google.com/assets/colab-badge.svg\" alt=\"Open In Colab\"/></a>"
      ]
    },
    {
      "cell_type": "code",
      "source": [
        "from urllib.request import Request,urlopen\n",
        "from bs4 import BeautifulSoup as soup\n",
        "\n",
        "url='https://www.atomcamp.com/about-us/'\n",
        "req=Request(url, headers={'User-Agent':'Mozilla/5.0'})\n",
        "webpage=urlopen(req).read()"
      ],
      "metadata": {
        "id": "FQ9D5q7w3M8Q"
      },
      "execution_count": 29,
      "outputs": []
    },
    {
      "cell_type": "code",
      "source": [
        "page_soup=soup(webpage,'html.parser')"
      ],
      "metadata": {
        "id": "TynhSkl24FBV"
      },
      "execution_count": 30,
      "outputs": []
    },
    {
      "cell_type": "code",
      "source": [
        "containers=page_soup.find('body')\n"
      ],
      "metadata": {
        "id": "lWM9w0Jg5GYL"
      },
      "execution_count": 32,
      "outputs": []
    },
    {
      "cell_type": "code",
      "source": [
        "containers"
      ],
      "metadata": {
        "id": "zf-qZySWLbMz"
      },
      "execution_count": null,
      "outputs": []
    },
    {
      "cell_type": "code",
      "source": [
        "text='atomcamp'"
      ],
      "metadata": {
        "id": "LZ-5KwxO_NCt"
      },
      "execution_count": 17,
      "outputs": []
    },
    {
      "cell_type": "code",
      "source": [
        "#get_text with strip set to true\n",
        "text_content = containers.get_text(' | ',strip=True)\n",
        "\n",
        "print(\"Text: \\n\", text_content)"
      ],
      "metadata": {
        "colab": {
          "base_uri": "https://localhost:8080/"
        },
        "id": "gq1U2bvqLQy2",
        "outputId": "a265bf7a-7b57-476b-c513-8962ed1b4277"
      },
      "execution_count": 27,
      "outputs": [
        {
          "output_type": "stream",
          "name": "stdout",
          "text": [
            "Text: \n",
            " Skip to content | atomcamp | About Us | Courses | Events | Publications | Sign Up | What is | atomcamp | ? | We are a young ed-tech platform focused on | Data Science and AI | . We commenced operations in 2021. Since then, we have experienced a continuous upward trajectory, both within the ed-tech ecosystem and within our own team. | Two years down the lane, we are proud to have a team of 35 employees, with the distinction of | 75% | of them being women. This remarkable achievement reflects the efforts of our founders, Dr. Naveed Iftikhar and Nida Mehmood, who have carefully curated this team with dedication. | Our | mission | , focused on providing accessible and all-inclusive education in the fields of Data Science and AI, has witnessed exponential growth with each successive cohort of bootcamps. | Through these | training initiatives | , we have nurtured a community of lifelong learners who not only contribute to the Data and AI ecosystem but have also honed the art of effective collaboration between diverse entities. | By offering immersive | learning experiences | , real-world projects, and personalized mentorship, atomcamp is dedicated to establishing a global community of Data Scientists and AI | Professionals | . | Dr Naveed Iftikhar | Co-founder | Nida Mahmood | Co-founder | Meet our incredible | team | . | Fizza Amjad | Chief Executive Officer | Mahnoor Salman | ML Engineer | Zumer Zia | BI Specialist | Nazia Cheema | Admissions Manager | Aamna Babar | Project Manager | Safa Baig | Manager Learning & Development | Rida Mughees | Manager Marketing | Sarmad Bilal | Senior Software Engineer | Hajira Anwar | AI Engineer | Anusha Qureshi | Marketing Consultant | Farwa Zahid | Data Analyst | Usama Shahid | Data Analyst | Iqra Jannat | Associate Data Scientist | Maria Qibtiya | Associate Data Scientist | A gateway to unlocking | opportunities | with | Artificial Intelligence | & | Data Science | . | By providing accessible education in data science and AI, we aspire to cultivate a community of lifelong learners who not only embrace the digital age but also shape its trajectory. | Through immersive learning experiences, real-world projects, and personalized mentorship, atomcamp is building a global community in data-driven excellence. | Our | educational | partners | . | Hello from remarkable | trainers | . | Hussain Shahbaz | Linkedin | Usman Zia | Linkedin | Alexander Nallin | Linkedin | Yahya Bajwa | Linkedin | Shafiqa Iqbal | Linkedin | Sidra Cheema | Linkedin | Ayman Rehan | Linkedin | Dr Zubair Khalid | Linkedin | Zumer Zia | Linkedin | Muhammad Umair | Linkedin | Mahnoor Salman | Linkedin | Naima Iltaf | Linkedin | atomcamp is a continuous learning platform that aims to intellectually and professionally uplift Pakistan`s workforce. | atomcamp is a continuous learning platform | unlocking opportunities with | Data Science. | For general inquiries: | team@atomcamp.com | Home | About | Course | Publications | Home | About | Course | Publications | Don’t miss our future updates! | Get Subscribed Today! | Please enable JavaScript in your browser to complete this form. | Email | * | Subscribe | For Admissions: +92-302-2278385 | For Events & Partnerships: fizza@atomcamp.com | 15-E Rehmat Center, Blue Area, Islamabad\n"
          ]
        }
      ]
    },
    {
      "cell_type": "code",
      "source": [
        "atomcamp=[text_content]"
      ],
      "metadata": {
        "id": "E5X1VTR-RBg3"
      },
      "execution_count": 60,
      "outputs": []
    },
    {
      "cell_type": "code",
      "source": [
        "import pandas as pd\n",
        "\n",
        "df=pd.DataFrame(atomcamp)"
      ],
      "metadata": {
        "id": "UCyqYubXPpfX"
      },
      "execution_count": 61,
      "outputs": []
    },
    {
      "cell_type": "code",
      "source": [
        "df.to_csv('atomcamp.csv')"
      ],
      "metadata": {
        "id": "43WZQYm7QaTw"
      },
      "execution_count": 63,
      "outputs": []
    }
  ]
}